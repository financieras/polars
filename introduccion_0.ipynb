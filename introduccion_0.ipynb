{
  "nbformat": 4,
  "nbformat_minor": 0,
  "metadata": {
    "colab": {
      "provenance": [],
      "authorship_tag": "ABX9TyMQ4WLaDRZAt/paJzN7nbIg",
      "include_colab_link": true
    },
    "kernelspec": {
      "name": "python3",
      "display_name": "Python 3"
    },
    "language_info": {
      "name": "python"
    }
  },
  "cells": [
    {
      "cell_type": "markdown",
      "metadata": {
        "id": "view-in-github",
        "colab_type": "text"
      },
      "source": [
        "<a href=\"https://colab.research.google.com/github/financieras/polars/blob/main/introduccion_0.ipynb\" target=\"_parent\"><img src=\"https://colab.research.google.com/assets/colab-badge.svg\" alt=\"Open In Colab\"/></a>"
      ]
    },
    {
      "cell_type": "code",
      "execution_count": null,
      "metadata": {
        "colab": {
          "base_uri": "https://localhost:8080/"
        },
        "id": "UjS3ht3sZcCI",
        "outputId": "643654e2-6392-49b3-f667-b0bc5c6171c2"
      },
      "outputs": [
        {
          "output_type": "stream",
          "name": "stdout",
          "text": [
            "Requirement already satisfied: polars in /usr/local/lib/python3.11/dist-packages (1.21.0)\n",
            "Collecting polars\n",
            "  Downloading polars-1.30.0-cp39-abi3-manylinux_2_17_x86_64.manylinux2014_x86_64.whl.metadata (14 kB)\n",
            "Downloading polars-1.30.0-cp39-abi3-manylinux_2_17_x86_64.manylinux2014_x86_64.whl (36.3 MB)\n",
            "\u001b[2K   \u001b[90m━━━━━━━━━━━━━━━━━━━━━━━━━━━━━━━━━━━━━━━━\u001b[0m \u001b[32m36.3/36.3 MB\u001b[0m \u001b[31m15.6 MB/s\u001b[0m eta \u001b[36m0:00:00\u001b[0m\n",
            "\u001b[?25hInstalling collected packages: polars\n",
            "  Attempting uninstall: polars\n",
            "    Found existing installation: polars 1.21.0\n",
            "    Uninstalling polars-1.21.0:\n",
            "      Successfully uninstalled polars-1.21.0\n",
            "\u001b[31mERROR: pip's dependency resolver does not currently take into account all the packages that are installed. This behaviour is the source of the following dependency conflicts.\n",
            "cudf-polars-cu12 25.2.2 requires polars<1.22,>=1.20, but you have polars 1.30.0 which is incompatible.\u001b[0m\u001b[31m\n",
            "\u001b[0mSuccessfully installed polars-1.30.0\n"
          ]
        }
      ],
      "source": [
        "%pip install polars --upgrade\n"
      ]
    },
    {
      "cell_type": "code",
      "source": [
        "import polars as pl\n",
        "\n",
        "df = pl.DataFrame({\n",
        "    'a': ['Hola', 'Mundo'],\n",
        "    'b': [1, 2]\n",
        "})\n",
        "\n",
        "df"
      ],
      "metadata": {
        "colab": {
          "base_uri": "https://localhost:8080/",
          "height": 161
        },
        "id": "PbiamrLraOkj",
        "outputId": "7a3859b7-f035-442c-9364-6f190daebf9a"
      },
      "execution_count": null,
      "outputs": [
        {
          "output_type": "execute_result",
          "data": {
            "text/plain": [
              "shape: (2, 2)\n",
              "┌───────┬─────┐\n",
              "│ a     ┆ b   │\n",
              "│ ---   ┆ --- │\n",
              "│ str   ┆ i64 │\n",
              "╞═══════╪═════╡\n",
              "│ Hola  ┆ 1   │\n",
              "│ Mundo ┆ 2   │\n",
              "└───────┴─────┘"
            ],
            "text/html": [
              "<div><style>\n",
              ".dataframe > thead > tr,\n",
              ".dataframe > tbody > tr {\n",
              "  text-align: right;\n",
              "  white-space: pre-wrap;\n",
              "}\n",
              "</style>\n",
              "<small>shape: (2, 2)</small><table border=\"1\" class=\"dataframe\"><thead><tr><th>a</th><th>b</th></tr><tr><td>str</td><td>i64</td></tr></thead><tbody><tr><td>&quot;Hola&quot;</td><td>1</td></tr><tr><td>&quot;Mundo&quot;</td><td>2</td></tr></tbody></table></div>"
            ]
          },
          "metadata": {},
          "execution_count": 2
        }
      ]
    },
    {
      "cell_type": "code",
      "source": [
        "import polars as pl\n",
        "\n",
        "df2 = pl.DataFrame({\n",
        "    \"frutas\": [\"manzana\", \"banano\", \"pera\", \"piña\"],\n",
        "    \"canastas\": [15, 32, 10, 5]\n",
        "})\n",
        "\n",
        "df2"
      ],
      "metadata": {
        "colab": {
          "base_uri": "https://localhost:8080/",
          "height": 224
        },
        "id": "qsCa1iN2aeGQ",
        "outputId": "1d8e979e-24eb-449e-9354-f1b7b93737d7"
      },
      "execution_count": null,
      "outputs": [
        {
          "output_type": "execute_result",
          "data": {
            "text/plain": [
              "shape: (4, 2)\n",
              "┌─────────┬──────────┐\n",
              "│ frutas  ┆ canastas │\n",
              "│ ---     ┆ ---      │\n",
              "│ str     ┆ i64      │\n",
              "╞═════════╪══════════╡\n",
              "│ manzana ┆ 15       │\n",
              "│ banano  ┆ 32       │\n",
              "│ pera    ┆ 10       │\n",
              "│ piña    ┆ 5        │\n",
              "└─────────┴──────────┘"
            ],
            "text/html": [
              "<div><style>\n",
              ".dataframe > thead > tr,\n",
              ".dataframe > tbody > tr {\n",
              "  text-align: right;\n",
              "  white-space: pre-wrap;\n",
              "}\n",
              "</style>\n",
              "<small>shape: (4, 2)</small><table border=\"1\" class=\"dataframe\"><thead><tr><th>frutas</th><th>canastas</th></tr><tr><td>str</td><td>i64</td></tr></thead><tbody><tr><td>&quot;manzana&quot;</td><td>15</td></tr><tr><td>&quot;banano&quot;</td><td>32</td></tr><tr><td>&quot;pera&quot;</td><td>10</td></tr><tr><td>&quot;piña&quot;</td><td>5</td></tr></tbody></table></div>"
            ]
          },
          "metadata": {},
          "execution_count": 3
        }
      ]
    },
    {
      "cell_type": "code",
      "source": [
        "import polars as pl\n",
        "\n",
        "df3 = pl.DataFrame({\n",
        "    'Modelo': ['iPhone X','iPhone XS','iPhone 12','iPhone 13','Samsung S11','Samsung S12','Mi A1','Mi A2'],\n",
        "    'Ventas': [80,170,130,205,400,30,14,8],\n",
        "    'Compañía': ['Apple','Apple','Apple','Apple','Samsung','Samsung','Xiao Mi','Xiao Mi']\n",
        "})\n",
        "\n",
        "df3"
      ],
      "metadata": {
        "colab": {
          "base_uri": "https://localhost:8080/",
          "height": 349
        },
        "id": "T6kR1zDkaoDS",
        "outputId": "494c649a-cb03-4491-a8ee-16fe03c5af4d"
      },
      "execution_count": null,
      "outputs": [
        {
          "output_type": "execute_result",
          "data": {
            "text/plain": [
              "shape: (8, 3)\n",
              "┌─────────────┬────────┬──────────┐\n",
              "│ Modelo      ┆ Ventas ┆ Compañía │\n",
              "│ ---         ┆ ---    ┆ ---      │\n",
              "│ str         ┆ i64    ┆ str      │\n",
              "╞═════════════╪════════╪══════════╡\n",
              "│ iPhone X    ┆ 80     ┆ Apple    │\n",
              "│ iPhone XS   ┆ 170    ┆ Apple    │\n",
              "│ iPhone 12   ┆ 130    ┆ Apple    │\n",
              "│ iPhone 13   ┆ 205    ┆ Apple    │\n",
              "│ Samsung S11 ┆ 400    ┆ Samsung  │\n",
              "│ Samsung S12 ┆ 30     ┆ Samsung  │\n",
              "│ Mi A1       ┆ 14     ┆ Xiao Mi  │\n",
              "│ Mi A2       ┆ 8      ┆ Xiao Mi  │\n",
              "└─────────────┴────────┴──────────┘"
            ],
            "text/html": [
              "<div><style>\n",
              ".dataframe > thead > tr,\n",
              ".dataframe > tbody > tr {\n",
              "  text-align: right;\n",
              "  white-space: pre-wrap;\n",
              "}\n",
              "</style>\n",
              "<small>shape: (8, 3)</small><table border=\"1\" class=\"dataframe\"><thead><tr><th>Modelo</th><th>Ventas</th><th>Compañía</th></tr><tr><td>str</td><td>i64</td><td>str</td></tr></thead><tbody><tr><td>&quot;iPhone X&quot;</td><td>80</td><td>&quot;Apple&quot;</td></tr><tr><td>&quot;iPhone XS&quot;</td><td>170</td><td>&quot;Apple&quot;</td></tr><tr><td>&quot;iPhone 12&quot;</td><td>130</td><td>&quot;Apple&quot;</td></tr><tr><td>&quot;iPhone 13&quot;</td><td>205</td><td>&quot;Apple&quot;</td></tr><tr><td>&quot;Samsung S11&quot;</td><td>400</td><td>&quot;Samsung&quot;</td></tr><tr><td>&quot;Samsung S12&quot;</td><td>30</td><td>&quot;Samsung&quot;</td></tr><tr><td>&quot;Mi A1&quot;</td><td>14</td><td>&quot;Xiao Mi&quot;</td></tr><tr><td>&quot;Mi A2&quot;</td><td>8</td><td>&quot;Xiao Mi&quot;</td></tr></tbody></table></div>"
            ]
          },
          "metadata": {},
          "execution_count": 4
        }
      ]
    },
    {
      "cell_type": "code",
      "source": [
        "df2.select(\"frutas\")"
      ],
      "metadata": {
        "colab": {
          "base_uri": "https://localhost:8080/",
          "height": 224
        },
        "id": "4uzrUJm0bKzW",
        "outputId": "fcabd7f6-0d54-4887-995f-2f94b5b59241"
      },
      "execution_count": 6,
      "outputs": [
        {
          "output_type": "execute_result",
          "data": {
            "text/plain": [
              "shape: (4, 1)\n",
              "┌─────────┐\n",
              "│ frutas  │\n",
              "│ ---     │\n",
              "│ str     │\n",
              "╞═════════╡\n",
              "│ manzana │\n",
              "│ banano  │\n",
              "│ pera    │\n",
              "│ piña    │\n",
              "└─────────┘"
            ],
            "text/html": [
              "<div><style>\n",
              ".dataframe > thead > tr,\n",
              ".dataframe > tbody > tr {\n",
              "  text-align: right;\n",
              "  white-space: pre-wrap;\n",
              "}\n",
              "</style>\n",
              "<small>shape: (4, 1)</small><table border=\"1\" class=\"dataframe\"><thead><tr><th>frutas</th></tr><tr><td>str</td></tr></thead><tbody><tr><td>&quot;manzana&quot;</td></tr><tr><td>&quot;banano&quot;</td></tr><tr><td>&quot;pera&quot;</td></tr><tr><td>&quot;piña&quot;</td></tr></tbody></table></div>"
            ]
          },
          "metadata": {},
          "execution_count": 6
        }
      ]
    },
    {
      "cell_type": "code",
      "source": [
        "df2.filter(pl.col(\"canastas\") > 10)"
      ],
      "metadata": {
        "colab": {
          "base_uri": "https://localhost:8080/",
          "height": 161
        },
        "id": "9mgtPyyQbaQS",
        "outputId": "caaa3c88-e1e4-4fed-eda1-8097d78447a6"
      },
      "execution_count": 7,
      "outputs": [
        {
          "output_type": "execute_result",
          "data": {
            "text/plain": [
              "shape: (2, 2)\n",
              "┌─────────┬──────────┐\n",
              "│ frutas  ┆ canastas │\n",
              "│ ---     ┆ ---      │\n",
              "│ str     ┆ i64      │\n",
              "╞═════════╪══════════╡\n",
              "│ manzana ┆ 15       │\n",
              "│ banano  ┆ 32       │\n",
              "└─────────┴──────────┘"
            ],
            "text/html": [
              "<div><style>\n",
              ".dataframe > thead > tr,\n",
              ".dataframe > tbody > tr {\n",
              "  text-align: right;\n",
              "  white-space: pre-wrap;\n",
              "}\n",
              "</style>\n",
              "<small>shape: (2, 2)</small><table border=\"1\" class=\"dataframe\"><thead><tr><th>frutas</th><th>canastas</th></tr><tr><td>str</td><td>i64</td></tr></thead><tbody><tr><td>&quot;manzana&quot;</td><td>15</td></tr><tr><td>&quot;banano&quot;</td><td>32</td></tr></tbody></table></div>"
            ]
          },
          "metadata": {},
          "execution_count": 7
        }
      ]
    },
    {
      "cell_type": "code",
      "source": [
        "df2.select(pl.col(\"canastas\").sum())\n"
      ],
      "metadata": {
        "colab": {
          "base_uri": "https://localhost:8080/",
          "height": 129
        },
        "id": "DD1a62tKbn2j",
        "outputId": "9beb7f7e-77d6-4906-bd4f-8f2178599dc1"
      },
      "execution_count": 8,
      "outputs": [
        {
          "output_type": "execute_result",
          "data": {
            "text/plain": [
              "shape: (1, 1)\n",
              "┌──────────┐\n",
              "│ canastas │\n",
              "│ ---      │\n",
              "│ i64      │\n",
              "╞══════════╡\n",
              "│ 62       │\n",
              "└──────────┘"
            ],
            "text/html": [
              "<div><style>\n",
              ".dataframe > thead > tr,\n",
              ".dataframe > tbody > tr {\n",
              "  text-align: right;\n",
              "  white-space: pre-wrap;\n",
              "}\n",
              "</style>\n",
              "<small>shape: (1, 1)</small><table border=\"1\" class=\"dataframe\"><thead><tr><th>canastas</th></tr><tr><td>i64</td></tr></thead><tbody><tr><td>62</td></tr></tbody></table></div>"
            ]
          },
          "metadata": {},
          "execution_count": 8
        }
      ]
    },
    {
      "cell_type": "code",
      "source": [
        "df2"
      ],
      "metadata": {
        "colab": {
          "base_uri": "https://localhost:8080/",
          "height": 224
        },
        "id": "w9om8avAb3Jb",
        "outputId": "d995767a-be0a-454b-a3c6-0e1e2497ab40"
      },
      "execution_count": 10,
      "outputs": [
        {
          "output_type": "execute_result",
          "data": {
            "text/plain": [
              "shape: (4, 2)\n",
              "┌─────────┬──────────┐\n",
              "│ frutas  ┆ canastas │\n",
              "│ ---     ┆ ---      │\n",
              "│ str     ┆ i64      │\n",
              "╞═════════╪══════════╡\n",
              "│ manzana ┆ 15       │\n",
              "│ banano  ┆ 32       │\n",
              "│ pera    ┆ 10       │\n",
              "│ piña    ┆ 5        │\n",
              "└─────────┴──────────┘"
            ],
            "text/html": [
              "<div><style>\n",
              ".dataframe > thead > tr,\n",
              ".dataframe > tbody > tr {\n",
              "  text-align: right;\n",
              "  white-space: pre-wrap;\n",
              "}\n",
              "</style>\n",
              "<small>shape: (4, 2)</small><table border=\"1\" class=\"dataframe\"><thead><tr><th>frutas</th><th>canastas</th></tr><tr><td>str</td><td>i64</td></tr></thead><tbody><tr><td>&quot;manzana&quot;</td><td>15</td></tr><tr><td>&quot;banano&quot;</td><td>32</td></tr><tr><td>&quot;pera&quot;</td><td>10</td></tr><tr><td>&quot;piña&quot;</td><td>5</td></tr></tbody></table></div>"
            ]
          },
          "metadata": {},
          "execution_count": 10
        }
      ]
    }
  ]
}