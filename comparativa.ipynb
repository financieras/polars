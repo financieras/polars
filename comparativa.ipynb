{
  "nbformat": 4,
  "nbformat_minor": 0,
  "metadata": {
    "colab": {
      "provenance": [],
      "gpuType": "V28",
      "authorship_tag": "ABX9TyNo9n7MbGUqNf2+k5VlJbqf",
      "include_colab_link": true
    },
    "kernelspec": {
      "name": "python3",
      "display_name": "Python 3"
    },
    "language_info": {
      "name": "python"
    },
    "accelerator": "TPU"
  },
  "cells": [
    {
      "cell_type": "markdown",
      "metadata": {
        "id": "view-in-github",
        "colab_type": "text"
      },
      "source": [
        "<a href=\"https://colab.research.google.com/github/financieras/polars/blob/main/comparativa.ipynb\" target=\"_parent\"><img src=\"https://colab.research.google.com/assets/colab-badge.svg\" alt=\"Open In Colab\"/></a>"
      ]
    },
    {
      "cell_type": "code",
      "execution_count": 1,
      "metadata": {
        "colab": {
          "base_uri": "https://localhost:8080/"
        },
        "id": "soskSNDi4sKz",
        "outputId": "418d4023-b39e-45b0-9c91-15bca3611687"
      },
      "outputs": [
        {
          "output_type": "stream",
          "name": "stdout",
          "text": [
            "NumPy - Tiempo total: 29.7802 s\n",
            "Media col1: 63.5012\n",
            "Media col2: 0.5000\n",
            "Media col3: -0.0000\n"
          ]
        }
      ],
      "source": [
        "import numpy as np\n",
        "import time\n",
        "\n",
        "# Medir tiempo total\n",
        "start = time.time()\n",
        "\n",
        "# Generar datos\n",
        "rng = np.random.default_rng()\n",
        "col1 = rng.integers(0, 128, size=1_000_000_000)\n",
        "col2 = rng.random(size=1_000_000_000)\n",
        "col3 = rng.normal(size=1_000_000_000)\n",
        "\n",
        "# Calcular medias\n",
        "mean_col1 = np.mean(col1)\n",
        "mean_col2 = np.mean(col2)\n",
        "mean_col3 = np.mean(col3)\n",
        "\n",
        "print(f\"NumPy - Tiempo total: {time.time() - start:.4f} s\")\n",
        "print(f\"Media col1: {mean_col1:.4f}\")\n",
        "print(f\"Media col2: {mean_col2:.4f}\")\n",
        "print(f\"Media col3: {mean_col3:.4f}\")"
      ]
    },
    {
      "cell_type": "code",
      "source": [
        "import pandas as pd\n",
        "import numpy as np\n",
        "import time\n",
        "\n",
        "start = time.time()\n",
        "\n",
        "# Generar DataFrame\n",
        "rng = np.random.default_rng()\n",
        "df = pd.DataFrame({\n",
        "    'col1': rng.integers(0, 128, size=1_000_000_000),\n",
        "    'col2': rng.random(size=1_000_000_000),\n",
        "    'col3': rng.normal(size=1_000_000_000)\n",
        "})\n",
        "\n",
        "# Calcular medias\n",
        "means = df.mean()\n",
        "\n",
        "print(f\"Pandas - Tiempo total: {time.time() - start:.4f} s\")\n",
        "print(means)"
      ],
      "metadata": {
        "colab": {
          "base_uri": "https://localhost:8080/"
        },
        "id": "mAK0XNf355em",
        "outputId": "dad951e0-9903-4de8-ec3d-d67bffe5e836"
      },
      "execution_count": 1,
      "outputs": [
        {
          "output_type": "stream",
          "name": "stdout",
          "text": [
            "Pandas - Tiempo total: 41.8006 s\n",
            "col1    63.501094\n",
            "col2     0.499983\n",
            "col3    -0.000029\n",
            "dtype: float64\n"
          ]
        }
      ]
    },
    {
      "cell_type": "code",
      "source": [
        "!pip install polars"
      ],
      "metadata": {
        "colab": {
          "base_uri": "https://localhost:8080/"
        },
        "id": "V2x1WV368G5e",
        "outputId": "2de53e43-5254-4226-cf16-36b4ca6f29dc"
      },
      "execution_count": 1,
      "outputs": [
        {
          "output_type": "stream",
          "name": "stdout",
          "text": [
            "Requirement already satisfied: polars in /usr/local/lib/python3.11/dist-packages (1.30.0)\n"
          ]
        }
      ]
    },
    {
      "cell_type": "code",
      "source": [
        "import polars as pl\n",
        "import numpy as np\n",
        "import time\n",
        "\n",
        "start = time.time()\n",
        "\n",
        "# Generar DataFrame\n",
        "rng = np.random.default_rng()\n",
        "df = pl.DataFrame({\n",
        "    'col1': rng.integers(0, 128, size=1_000_000_000),\n",
        "    'col2': rng.random(size=1_000_000_000),\n",
        "    'col3': rng.normal(size=1_000_000_000)\n",
        "})\n",
        "\n",
        "# Calcular medias\n",
        "mean_col1 = df['col1'].mean()\n",
        "mean_col2 = df['col2'].mean()\n",
        "mean_col3 = df['col3'].mean()\n",
        "\n",
        "print(f\"Polars - Tiempo total: {time.time() - start:.4f} s\")\n",
        "print(f\"Media col1: {mean_col1:.4f}\")\n",
        "print(f\"Media col2: {mean_col2:.4f}\")\n",
        "print(f\"Media col3: {mean_col3:.4f}\")"
      ],
      "metadata": {
        "colab": {
          "base_uri": "https://localhost:8080/"
        },
        "id": "6lSGQKkg6NyZ",
        "outputId": "11d0d697-b471-4735-ba65-e814cb0c0b6c"
      },
      "execution_count": 2,
      "outputs": [
        {
          "output_type": "stream",
          "name": "stdout",
          "text": [
            "Polars - Tiempo total: 31.1611 s\n",
            "Media col1: 63.4992\n",
            "Media col2: 0.5000\n",
            "Media col3: 0.0000\n"
          ]
        }
      ]
    }
  ]
}