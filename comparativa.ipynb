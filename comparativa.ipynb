{
  "nbformat": 4,
  "nbformat_minor": 0,
  "metadata": {
    "colab": {
      "provenance": [],
      "authorship_tag": "ABX9TyO+NOTfdmL0i+XhCIX7ifyJ",
      "include_colab_link": true
    },
    "kernelspec": {
      "name": "python3",
      "display_name": "Python 3"
    },
    "language_info": {
      "name": "python"
    }
  },
  "cells": [
    {
      "cell_type": "markdown",
      "metadata": {
        "id": "view-in-github",
        "colab_type": "text"
      },
      "source": [
        "<a href=\"https://colab.research.google.com/github/financieras/polars/blob/main/comparativa.ipynb\" target=\"_parent\"><img src=\"https://colab.research.google.com/assets/colab-badge.svg\" alt=\"Open In Colab\"/></a>"
      ]
    },
    {
      "cell_type": "markdown",
      "source": [
        " # Comparativa entre Pandas y Polasr en velocidad de procesamiento"
      ],
      "metadata": {
        "id": "mCxJafa8TIK5"
      }
    },
    {
      "cell_type": "markdown",
      "source": [
        "## Script con Numpy"
      ],
      "metadata": {
        "id": "_H5shh_tTV30"
      }
    },
    {
      "cell_type": "code",
      "execution_count": null,
      "metadata": {
        "colab": {
          "base_uri": "https://localhost:8080/"
        },
        "id": "soskSNDi4sKz",
        "outputId": "418d4023-b39e-45b0-9c91-15bca3611687"
      },
      "outputs": [
        {
          "output_type": "stream",
          "name": "stdout",
          "text": [
            "NumPy - Tiempo total: 29.7802 s\n",
            "Media col1: 63.5012\n",
            "Media col2: 0.5000\n",
            "Media col3: -0.0000\n"
          ]
        }
      ],
      "source": [
        "import numpy as np\n",
        "import time\n",
        "\n",
        "# Medir tiempo total\n",
        "start = time.time()\n",
        "\n",
        "# Generar datos\n",
        "rng = np.random.default_rng()\n",
        "col1 = rng.integers(0, 128, size=1_000_000_000)\n",
        "col2 = rng.random(size=1_000_000_000)\n",
        "col3 = rng.normal(size=1_000_000_000)\n",
        "\n",
        "# Calcular medias\n",
        "mean_col1 = np.mean(col1)\n",
        "mean_col2 = np.mean(col2)\n",
        "mean_col3 = np.mean(col3)\n",
        "\n",
        "print(f\"NumPy - Tiempo total: {time.time() - start:.4f} s\")\n",
        "print(f\"Media col1: {mean_col1:.4f}\")\n",
        "print(f\"Media col2: {mean_col2:.4f}\")\n",
        "print(f\"Media col3: {mean_col3:.4f}\")"
      ]
    },
    {
      "cell_type": "markdown",
      "source": [
        "## Script con Pandas"
      ],
      "metadata": {
        "id": "eM54775dTb-T"
      }
    },
    {
      "cell_type": "code",
      "source": [
        "import pandas as pd\n",
        "import numpy as np\n",
        "import time\n",
        "\n",
        "start = time.time()\n",
        "\n",
        "# Generar DataFrame\n",
        "rng = np.random.default_rng()\n",
        "df = pd.DataFrame({\n",
        "    'col1': rng.integers(0, 128, size=1_000_000_000),\n",
        "    'col2': rng.random(size=1_000_000_000),\n",
        "    'col3': rng.normal(size=1_000_000_000)\n",
        "})\n",
        "\n",
        "# Calcular medias\n",
        "means = df.mean()\n",
        "\n",
        "print(f\"Pandas - Tiempo total: {time.time() - start:.4f} s\")\n",
        "print(means)"
      ],
      "metadata": {
        "colab": {
          "base_uri": "https://localhost:8080/"
        },
        "id": "mAK0XNf355em",
        "outputId": "dad951e0-9903-4de8-ec3d-d67bffe5e836"
      },
      "execution_count": null,
      "outputs": [
        {
          "output_type": "stream",
          "name": "stdout",
          "text": [
            "Pandas - Tiempo total: 41.8006 s\n",
            "col1    63.501094\n",
            "col2     0.499983\n",
            "col3    -0.000029\n",
            "dtype: float64\n"
          ]
        }
      ]
    },
    {
      "cell_type": "markdown",
      "source": [
        "## Script con Polars"
      ],
      "metadata": {
        "id": "ghPORYDlTkv_"
      }
    },
    {
      "cell_type": "code",
      "source": [
        "!pip install polars"
      ],
      "metadata": {
        "colab": {
          "base_uri": "https://localhost:8080/"
        },
        "id": "V2x1WV368G5e",
        "outputId": "920369e4-bf50-40af-b6a7-3c707c3d3e27"
      },
      "execution_count": null,
      "outputs": [
        {
          "output_type": "stream",
          "name": "stdout",
          "text": [
            "Collecting polars\n",
            "  Downloading polars-1.30.0-cp39-abi3-manylinux_2_17_x86_64.manylinux2014_x86_64.whl.metadata (14 kB)\n",
            "Downloading polars-1.30.0-cp39-abi3-manylinux_2_17_x86_64.manylinux2014_x86_64.whl (36.3 MB)\n",
            "\u001b[2K   \u001b[90m━━━━━━━━━━━━━━━━━━━━━━━━━━━━━━━━━━━━━━━━\u001b[0m \u001b[32m36.3/36.3 MB\u001b[0m \u001b[31m42.6 MB/s\u001b[0m eta \u001b[36m0:00:00\u001b[0m\n",
            "\u001b[?25hInstalling collected packages: polars\n",
            "Successfully installed polars-1.30.0\n"
          ]
        }
      ]
    },
    {
      "cell_type": "code",
      "source": [
        "import polars as pl\n",
        "import numpy as np\n",
        "import time\n",
        "\n",
        "start = time.time()\n",
        "\n",
        "# Generar DataFrame\n",
        "rng = np.random.default_rng()\n",
        "df = pl.DataFrame({\n",
        "    'col1': rng.integers(0, 128, size=1_000_000_000),\n",
        "    'col2': rng.random(size=1_000_000_000),\n",
        "    'col3': rng.normal(size=1_000_000_000)\n",
        "})\n",
        "\n",
        "# Calcular medias\n",
        "mean_col1 = df['col1'].mean()\n",
        "mean_col2 = df['col2'].mean()\n",
        "mean_col3 = df['col3'].mean()\n",
        "\n",
        "print(f\"Polars - Tiempo total: {time.time() - start:.4f} s\")\n",
        "print(f\"Media col1: {mean_col1:.4f}\")\n",
        "print(f\"Media col2: {mean_col2:.4f}\")\n",
        "print(f\"Media col3: {mean_col3:.4f}\")"
      ],
      "metadata": {
        "colab": {
          "base_uri": "https://localhost:8080/"
        },
        "id": "6lSGQKkg6NyZ",
        "outputId": "11d0d697-b471-4735-ba65-e814cb0c0b6c"
      },
      "execution_count": null,
      "outputs": [
        {
          "output_type": "stream",
          "name": "stdout",
          "text": [
            "Polars - Tiempo total: 31.1611 s\n",
            "Media col1: 63.4992\n",
            "Media col2: 0.5000\n",
            "Media col3: 0.0000\n"
          ]
        }
      ]
    },
    {
      "cell_type": "markdown",
      "source": [
        "# Comparativa entre Pandas y Polars\n",
        "Polars es mucho más rápido que Pandas en una amplia variedad de operaciones, especialmente cuando se trata de conjuntos de datos grandes y operaciones que pueden paralelizarse. Entre las operaciones donde Polars destaca notablemente están:\n",
        "\n",
        "    Carga de archivos CSV grandes\n",
        "\n",
        "    Filtrado de filas\n",
        "\n",
        "    Agregaciones (groupby, mean, sum, etc.)\n",
        "\n",
        "    Ordenación de datos\n",
        "\n",
        "    Joins (unión de DataFrames)\n",
        "\n",
        "El caso de uniones (joins) es especialmente relevante porque Polars utiliza algoritmos optimizados y paralelización, mientras que Pandas realiza uniones de manera más secuencial\n",
        "\n",
        ". Esto hace que la diferencia de tiempos sea muy notable, incluso en datasets de tamaño moderado.\n",
        "\n",
        "A continuación tienes dos scripts: uno con Pandas y otro con Polars, diseñados para unir dos DataFrames de 100,000 filas cada uno, y medir el tiempo que tarda la operación de join."
      ],
      "metadata": {
        "id": "80r1btYNTnY6"
      }
    },
    {
      "cell_type": "markdown",
      "source": [
        "## Script con Pandas"
      ],
      "metadata": {
        "id": "8krYxyWSidXB"
      }
    },
    {
      "cell_type": "code",
      "source": [
        "import pandas as pd\n",
        "import numpy as np\n",
        "import time\n",
        "\n",
        "np.random.seed(42)\n",
        "n = 100_000_000\n",
        "\n",
        "# Crear dos DataFrames con una columna común y otra aleatoria\n",
        "df1 = pd.DataFrame({\n",
        "    'id': np.arange(n),\n",
        "    'value': np.random.rand(n)\n",
        "})\n",
        "df2 = pd.DataFrame({\n",
        "    'id': np.arange(n),\n",
        "    'other_value': np.random.rand(n)\n",
        "})\n",
        "\n",
        "start = time.time()\n",
        "result = pd.merge(df1, df2, on='id')\n",
        "print(f\"Pandas - Tiempo de join: {time.time() - start:.4f} s\")"
      ],
      "metadata": {
        "id": "THdbgrIsigub",
        "outputId": "42ebbcb1-fca2-4760-e25a-bee9268fc506",
        "colab": {
          "base_uri": "https://localhost:8080/"
        }
      },
      "execution_count": null,
      "outputs": [
        {
          "output_type": "stream",
          "name": "stdout",
          "text": [
            "Pandas - Tiempo de join: 1.8545 s\n"
          ]
        }
      ]
    },
    {
      "cell_type": "markdown",
      "source": [],
      "metadata": {
        "id": "P90L9yWwikWg"
      }
    },
    {
      "cell_type": "code",
      "source": [
        "## Script con Polars"
      ],
      "metadata": {
        "id": "ir8_b_eliiaJ"
      },
      "execution_count": null,
      "outputs": []
    },
    {
      "cell_type": "code",
      "source": [
        "!pip install -U polars"
      ],
      "metadata": {
        "id": "kuAD4CuekUMb",
        "outputId": "24951d16-7baf-4f97-beb6-b6a6f1c21c21",
        "colab": {
          "base_uri": "https://localhost:8080/"
        }
      },
      "execution_count": null,
      "outputs": [
        {
          "output_type": "stream",
          "name": "stdout",
          "text": [
            "Requirement already satisfied: polars in /usr/local/lib/python3.11/dist-packages (1.30.0)\n"
          ]
        }
      ]
    },
    {
      "cell_type": "code",
      "source": [
        "import polars as pl\n",
        "import numpy as np\n",
        "import time\n",
        "\n",
        "np.random.seed(42)\n",
        "n = 100_000_000\n",
        "\n",
        "# Crear dos DataFrames con una columna común y otra aleatoria\n",
        "df1 = pl.DataFrame({\n",
        "    'id': np.arange(n),\n",
        "    'value': np.random.rand(n)\n",
        "})\n",
        "df2 = pl.DataFrame({\n",
        "    'id': np.arange(n),\n",
        "    'other_value': np.random.rand(n)\n",
        "})\n",
        "\n",
        "start = time.time()\n",
        "result = df1.join(df2, on='id')\n",
        "print(f\"Polars - Tiempo de join: {time.time() - start:.4f} s\")"
      ],
      "metadata": {
        "id": "CMaal-qeirKw",
        "outputId": "825e0d36-d3ee-48a5-a6ae-f7e5cf3a861c",
        "colab": {
          "base_uri": "https://localhost:8080/"
        }
      },
      "execution_count": null,
      "outputs": [
        {
          "output_type": "stream",
          "name": "stdout",
          "text": [
            "Polars - Tiempo de join: 52.6159 s\n"
          ]
        }
      ]
    }
  ]
}