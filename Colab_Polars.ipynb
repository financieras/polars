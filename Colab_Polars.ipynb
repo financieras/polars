{
  "nbformat": 4,
  "nbformat_minor": 0,
  "metadata": {
    "colab": {
      "provenance": [],
      "include_colab_link": true
    },
    "kernelspec": {
      "name": "python3",
      "display_name": "Python 3"
    },
    "language_info": {
      "name": "python"
    }
  },
  "cells": [
    {
      "cell_type": "markdown",
      "metadata": {
        "id": "view-in-github",
        "colab_type": "text"
      },
      "source": [
        "<a href=\"https://colab.research.google.com/github/financieras/polars/blob/main/Colab_Polars.ipynb\" target=\"_parent\"><img src=\"https://colab.research.google.com/assets/colab-badge.svg\" alt=\"Open In Colab\"/></a>"
      ]
    },
    {
      "cell_type": "markdown",
      "source": [
        "# ¡Polars! 🐻‍❄️\n",
        "\n",
        "> **Descripción:** Google Colab Notebook con el contenido introductorio para conocer cómo funciona Polars. <br>\n",
        "> **Autor:** [David Pedroza Segoviano (Bubu)](https://github.com/BubuDavid) <br>\n",
        "> **Contacto:** [@bubusaurio_rex](https://www.instagram.com/bubusaurio_rex/)\n",
        "\n",
        "\n",
        "## Contenido\n",
        "\n",
        "### **Introducción 🐻‍❄️**\n",
        "- Instalación\n",
        "- Tipos de datos\n",
        "- Primeros Pasos: DataFrames\n",
        "- Leer Archivos\n",
        "- Contextos\n",
        "- Expresiones\n",
        "\n",
        "### **El verdadero poder 🧠**\n",
        "- Funciones\n",
        "- Agregaciones\n",
        "\n",
        "### **Ejercicios 💪**\n",
        "- A chambiar...\n",
        "\n",
        "### Extras\n",
        "- Lazy & eager API"
      ],
      "metadata": {
        "id": "Lje-xHuKw8n1"
      }
    },
    {
      "cell_type": "markdown",
      "source": [
        "# Introducción"
      ],
      "metadata": {
        "id": "Rq4OIZW6lLM2"
      }
    },
    {
      "cell_type": "markdown",
      "source": [
        "## Instalación\n",
        "\n",
        "Polars, se instala fácilmente como cualquier otro paquete de python, ya sea con ```pip``` o ```conda```, aquí se muestra el cómo se hace, sin embargo, **Google Colab** ya tiene instalado polars así que persé no es necesario. Vamos a hacerlo solo para practicar.\n",
        "\n",
        ">En Notebooks como Google Colab o como Jupyter, para ejecutar command line commands (Comándos de línea de comandos 🤯), necesitamos poner un __!__ primero y después el o los comandos que queramos en esa línea."
      ],
      "metadata": {
        "id": "a0VJ-QnU3auI"
      }
    },
    {
      "cell_type": "code",
      "execution_count": 1,
      "metadata": {
        "id": "8yy_TYsTlHO_",
        "colab": {
          "base_uri": "https://localhost:8080/"
        },
        "outputId": "27a7180c-30dc-4b7c-f507-0084e7179b20"
      },
      "outputs": [
        {
          "output_type": "stream",
          "name": "stdout",
          "text": [
            "Requirement already satisfied: polars in /usr/local/lib/python3.11/dist-packages (1.21.0)\n"
          ]
        }
      ],
      "source": [
        "!pip install polars"
      ]
    },
    {
      "cell_type": "markdown",
      "source": [
        "## Tipos de datos\n",
        "Para nosotr@s es muy sencillo reconocer entre un número, una palabra, letras, fechas, estructuras, objetos, etc... Pero para las computadoras no, para ello se necesita hacer un listado y mapeo del tipo de dato que es un dato y relacionarlo con su correspondiente en representación máquina. Veamos la siguiente tabla sacada de la documentación oficial de [polars](https://docs.pola.rs/user-guide/concepts/data-types/overview/).\n",
        "\n",
        "Veamos un par de ejemplos con código de polars, sirve que aprendemos a importarlo 😈."
      ],
      "metadata": {
        "id": "gT5GSjDH4Ehx"
      }
    },
    {
      "cell_type": "code",
      "source": [
        "import polars as pl"
      ],
      "metadata": {
        "id": "oTbBW_J54BLp"
      },
      "execution_count": 2,
      "outputs": []
    },
    {
      "cell_type": "markdown",
      "source": [
        "🤚 **¿Por qué pl? ¿Qué es ```as```? ¿Puedo hacer uso de otro término?**"
      ],
      "metadata": {
        "id": "MOPMAbYW5fRG"
      }
    },
    {
      "cell_type": "code",
      "source": [
        "# Contestar preguntas"
      ],
      "metadata": {
        "id": "vsywbZMM5eXr"
      },
      "execution_count": null,
      "outputs": []
    },
    {
      "cell_type": "code",
      "source": [
        "# Ver los tipos de datos.\n",
        "a = 28\n",
        "b = 10e9\n",
        "c = 'Hola'\n",
        "\n",
        "print(a, type(a))\n",
        "print(b, type(b))\n",
        "print(c, type(c))"
      ],
      "metadata": {
        "id": "NZYxsB8x6AjV",
        "colab": {
          "base_uri": "https://localhost:8080/"
        },
        "outputId": "c2441fc2-321c-405d-e76f-3ca208a402d0"
      },
      "execution_count": 6,
      "outputs": [
        {
          "output_type": "stream",
          "name": "stdout",
          "text": [
            "28 <class 'int'>\n",
            "10000000000.0 <class 'float'>\n",
            "Hola <class 'str'>\n"
          ]
        }
      ]
    },
    {
      "cell_type": "code",
      "source": [
        "# Meh python tiene estadarizado sus tipos de datos a los más grandes y generales, eso no nos ayuda a entender qué es el 64 o 16, probemos con numpy\n",
        "import numpy as np\n",
        "\n",
        "a = np.int64(100)\n",
        "b = np.float64(10e9)\n",
        "c = np.str_(\"Hola\")\n",
        "\n",
        "print(a, type(a))\n",
        "print(b, type(b))\n",
        "print(c, type(c))"
      ],
      "metadata": {
        "id": "rrKApNvO6yXE",
        "colab": {
          "base_uri": "https://localhost:8080/"
        },
        "outputId": "96bd031d-2cf7-45ac-bcca-34edf33d1b61"
      },
      "execution_count": 4,
      "outputs": [
        {
          "output_type": "stream",
          "name": "stdout",
          "text": [
            "100 <class 'numpy.int64'>\n",
            "10000000000.0 <class 'numpy.float64'>\n",
            "Hola <class 'numpy.str_'>\n"
          ]
        }
      ]
    },
    {
      "cell_type": "code",
      "source": [
        "# Casos de uso para los chiquis?\n",
        "d = np.int8(127) # ([100], dtype=np.int8)\n",
        "print(d, type(d))"
      ],
      "metadata": {
        "id": "Z_HwWqbW7egS",
        "colab": {
          "base_uri": "https://localhost:8080/"
        },
        "outputId": "2ef120e1-ddd7-4309-d21f-58f4703f1a54"
      },
      "execution_count": 10,
      "outputs": [
        {
          "output_type": "stream",
          "name": "stdout",
          "text": [
            "127 <class 'numpy.int8'>\n"
          ]
        }
      ]
    },
    {
      "cell_type": "markdown",
      "source": [
        "## Primeros pasos: DataFrames\n",
        "\n",
        "Así como Python tiene sus listas o diccionarios, numpy tiene sus ndarrays, y pandas sus Series y DataFrames, la estructura inicial y funamental de polars son... LOS DATAFRAMES (También tiene Series, que es como una columna). No son iguales que en Pandas, pero son muy muy parecidos y esto es porque polars se basa en el manejo de datos estructurados (al igual que pandas).\n",
        "\n",
        "Creemos nuestro primer dataframe en polars."
      ],
      "metadata": {
        "id": "lP1rQSsq8PqB"
      }
    },
    {
      "cell_type": "code",
      "source": [
        "# Forma 1: Diccionarios\n",
        "data = {\n",
        "    'integer_column': [1, 2, 3, 4, 5],\n",
        "    'float_column': [1.1, 2.2, 3.3, 4.4, 5.5],\n",
        "    'date_column': ['2022-01-01', '2022-02-01', '2022-03-01', '2022-04-01', '2022-05-01'],\n",
        "    'string_column': ['apple', 'banana', 'cherry', 'date', 'elderberry']\n",
        "}\n",
        "\n",
        "df = pl.DataFrame(data)\n",
        "\n",
        "print(df)"
      ],
      "metadata": {
        "id": "JT4_c4nh8SuE",
        "colab": {
          "base_uri": "https://localhost:8080/"
        },
        "outputId": "c62020ac-3bc7-488d-fc75-f1206acea64d"
      },
      "execution_count": 11,
      "outputs": [
        {
          "output_type": "stream",
          "name": "stdout",
          "text": [
            "shape: (5, 4)\n",
            "┌────────────────┬──────────────┬─────────────┬───────────────┐\n",
            "│ integer_column ┆ float_column ┆ date_column ┆ string_column │\n",
            "│ ---            ┆ ---          ┆ ---         ┆ ---           │\n",
            "│ i64            ┆ f64          ┆ str         ┆ str           │\n",
            "╞════════════════╪══════════════╪═════════════╪═══════════════╡\n",
            "│ 1              ┆ 1.1          ┆ 2022-01-01  ┆ apple         │\n",
            "│ 2              ┆ 2.2          ┆ 2022-02-01  ┆ banana        │\n",
            "│ 3              ┆ 3.3          ┆ 2022-03-01  ┆ cherry        │\n",
            "│ 4              ┆ 4.4          ┆ 2022-04-01  ┆ date          │\n",
            "│ 5              ┆ 5.5          ┆ 2022-05-01  ┆ elderberry    │\n",
            "└────────────────┴──────────────┴─────────────┴───────────────┘\n"
          ]
        }
      ]
    },
    {
      "cell_type": "code",
      "source": [
        "# Forma 2: Polar Series\n",
        "integer_column = pl.Series(\"integer_column\", [1, 2, 3, 4, 5], dtype = pl.Int16)\n",
        "float_column = pl.Series(\"float_column\", [1.1, 2.2, 3.3, 4.4, 5.5])\n",
        "date_column = pl.Series(\"date_column\", ['2022-01-01', '2022-02-01', '2022-03-01', '2022-04-01', '2022-05-01'])\n",
        "string_column = pl.Series(['apple', 'banana', 'cherry', 'date', 'elderberry'])\n",
        "\n",
        "df = pl.DataFrame([integer_column, float_column, date_column, string_column])\n",
        "\n",
        "print(df)"
      ],
      "metadata": {
        "id": "yzJcs1kQ_EAB",
        "colab": {
          "base_uri": "https://localhost:8080/"
        },
        "outputId": "8dd45e22-48bf-4e5f-a0d5-3732b03fa882"
      },
      "execution_count": 12,
      "outputs": [
        {
          "output_type": "stream",
          "name": "stdout",
          "text": [
            "shape: (5, 4)\n",
            "┌────────────────┬──────────────┬─────────────┬────────────┐\n",
            "│ integer_column ┆ float_column ┆ date_column ┆ column_3   │\n",
            "│ ---            ┆ ---          ┆ ---         ┆ ---        │\n",
            "│ i16            ┆ f64          ┆ str         ┆ str        │\n",
            "╞════════════════╪══════════════╪═════════════╪════════════╡\n",
            "│ 1              ┆ 1.1          ┆ 2022-01-01  ┆ apple      │\n",
            "│ 2              ┆ 2.2          ┆ 2022-02-01  ┆ banana     │\n",
            "│ 3              ┆ 3.3          ┆ 2022-03-01  ┆ cherry     │\n",
            "│ 4              ┆ 4.4          ┆ 2022-04-01  ┆ date       │\n",
            "│ 5              ┆ 5.5          ┆ 2022-05-01  ┆ elderberry │\n",
            "└────────────────┴──────────────┴─────────────┴────────────┘\n"
          ]
        }
      ]
    },
    {
      "cell_type": "markdown",
      "source": [
        "🤚 **¿Cuál es la ventaja?**"
      ],
      "metadata": {
        "id": "xgBWITGFAX3e"
      }
    },
    {
      "cell_type": "markdown",
      "source": [
        "**⚒️ Ejercicio: Creen su propio DataFrame con 2 columnas como quieran, las que quieran que sean de tipos distintos**"
      ],
      "metadata": {
        "id": "YJqKaxQMAtAe"
      }
    },
    {
      "cell_type": "code",
      "source": [
        "import polars as pl\n",
        "\n",
        "df = pl.DataFrame({\n",
        "    'columna_1': [1, 2, 3, 4, 5],\n",
        "    'columna_2': ['a', 'b', 'c', 'd', 'e'],\n",
        "    'columna_3': [True, False, True, False, True],\n",
        "    'columna_4': [1.1, 2.2, 3.3, 4.4, 5.5],\n",
        "    'columna_5': ['2022-01-01', '2022-02-01', '2022-03-01', '2022-04-01', '2022-05-01']\n",
        "})\n",
        "\n",
        "print(df)"
      ],
      "metadata": {
        "id": "Sy0e1Xg1Ad6T",
        "colab": {
          "base_uri": "https://localhost:8080/"
        },
        "outputId": "23fa45de-8605-485c-c085-53af8c06ed07"
      },
      "execution_count": 13,
      "outputs": [
        {
          "output_type": "stream",
          "name": "stdout",
          "text": [
            "shape: (5, 5)\n",
            "┌───────────┬───────────┬───────────┬───────────┬────────────┐\n",
            "│ columna_1 ┆ columna_2 ┆ columna_3 ┆ columna_4 ┆ columna_5  │\n",
            "│ ---       ┆ ---       ┆ ---       ┆ ---       ┆ ---        │\n",
            "│ i64       ┆ str       ┆ bool      ┆ f64       ┆ str        │\n",
            "╞═══════════╪═══════════╪═══════════╪═══════════╪════════════╡\n",
            "│ 1         ┆ a         ┆ true      ┆ 1.1       ┆ 2022-01-01 │\n",
            "│ 2         ┆ b         ┆ false     ┆ 2.2       ┆ 2022-02-01 │\n",
            "│ 3         ┆ c         ┆ true      ┆ 3.3       ┆ 2022-03-01 │\n",
            "│ 4         ┆ d         ┆ false     ┆ 4.4       ┆ 2022-04-01 │\n",
            "│ 5         ┆ e         ┆ true      ┆ 5.5       ┆ 2022-05-01 │\n",
            "└───────────┴───────────┴───────────┴───────────┴────────────┘\n"
          ]
        }
      ]
    },
    {
      "cell_type": "markdown",
      "source": [
        "## Leer archivos\n",
        "\n",
        "Muy probablemente pienses que crear dataframes desde 0 es muy poco útil y práctico, y estás en todo lo correcto, aprendamos a cómo leer archivos desde polars. Usemos este link: https://raw.githubusercontent.com/mwaskom/seaborn-data/master/iris.csv"
      ],
      "metadata": {
        "id": "yH9MhkccD7v1"
      }
    },
    {
      "cell_type": "code",
      "source": [
        "df = pl.read_csv('https://raw.githubusercontent.com/mwaskom/seaborn-data/master/iris.csv')\n",
        "\n",
        "print(df)"
      ],
      "metadata": {
        "id": "OmVFds67BHPw"
      },
      "execution_count": null,
      "outputs": []
    },
    {
      "cell_type": "markdown",
      "source": [
        "## Contextos\n",
        "\n",
        "Polars ha desarrollado su propio lenguaje específico de dominio (DSL) para transformar datos. El lenguaje es muy fácil de usar y permite consultas complejas que siguen siendo legibles por humanos. Los dos componentes centrales del lenguaje son \"Contextos\" y \"Expresiones\".\n",
        "\n",
        "Un contexto, como lo implica el nombre, se refiere al contexto en el que se debe evaluar una expresión. Hay tres contextos principales:\n",
        "\n",
        "- Selección: `df.select(...)`, `df.with_columns(...)`\n",
        "- Filtrado: `df.filter()`\n",
        "- Agrupaciones y agregaciones: `df.groupby(..).agg(...)`\n",
        "\n",
        "Revisemos algunos ejemplos. Imaginemos:\n",
        "\n",
        "```\n",
        "┌──────┬───────┬──────────┬────────┐\n",
        "│ nrs  ┆ names ┆ random   ┆ groups │\n",
        "│ ---  ┆ ---   ┆ ---      ┆ ---    │\n",
        "│ i64  ┆ str   ┆ f64      ┆ str    │\n",
        "╞══════╪═══════╪══════════╪════════╡\n",
        "│ 1    ┆ foo   ┆ 0.154163 ┆ A      │\n",
        "│ 2    ┆ ham   ┆ 0.74005  ┆ A      │\n",
        "│ 3    ┆ spam  ┆ 0.263315 ┆ B      │\n",
        "│ null ┆ egg   ┆ 0.533739 ┆ C      │\n",
        "│ 5    ┆ null  ┆ 0.014575 ┆ B      │\n",
        "└──────┴───────┴──────────┴────────┘\n",
        "```\n",
        "\n",
        "#### Contexto `select`\n",
        "\n",
        "En este contexto, la selección aplica expresiones sobre columnas. Las expresiones en este contexto deben producir series que tengan la misma longitud o una longitud de 1.\n",
        "\n",
        "Una selección puede producir nuevas columnas que son agregaciones, combinaciones de expresiones o literales.\n",
        "\n",
        "```\n",
        "┌─────┬───────┬────────────┬────────┐\n",
        "│ nrs ┆ names ┆ first name ┆ 10xnrs │\n",
        "│ --- ┆ ---   ┆ ---        ┆ ---    │\n",
        "│ i64 ┆ str   ┆ str        ┆ f64    │\n",
        "╞═════╪═══════╪════════════╪════════╡\n",
        "│ 11  ┆ null  ┆ foo        ┆ 27.5   │\n",
        "│ 11  ┆ egg   ┆ foo        ┆ 27.5   │\n",
        "│ 11  ┆ foo   ┆ foo        ┆ 27.5   │\n",
        "│ 11  ┆ ham   ┆ foo        ┆ 27.5   │\n",
        "│ 11  ┆ spam  ┆ foo        ┆ 27.5   │\n",
        "└─────┴───────┴────────────┴────────┘\n",
        "```\n",
        "\n",
        "#### Contexto `filter`\n",
        "\n",
        "En este contexto, se filtra el marco de datos existente en función de la expresión arbitraria que se evalúa como el tipo de datos booleano.\n",
        "\n",
        "```\n",
        "Original:\n",
        "┌──────┬───────┬──────────┬────────┬─────────┬───────┐\n",
        "│ nrs  ┆ names ┆ random   ┆ groups ┆ nrs_sum ┆ count │\n",
        "│ ---  ┆ ---   ┆ ---      ┆ ---    ┆ ---     ┆ ---   │\n",
        "│ i64  ┆ str   ┆ f64      ┆ str    ┆ i64     ┆ u32   │\n",
        "╞══════╪═══════╪══════════╪════════╪═════════╪═══════╡\n",
        "│ 1    ┆ foo   ┆ 0.154163 ┆ A      ┆ 11      ┆ 5     │\n",
        "│ 2    ┆ ham   ┆ 0.74005  ┆ A      ┆ 11      ┆ 5     │\n",
        "│ 3    ┆ spam  ┆ 0.263315 ┆ B      ┆ 11      ┆ 5     │\n",
        "│ null ┆ egg   ┆ 0.533739 ┆ C      ┆ 11      ┆ 5     │\n",
        "│ 5    ┆ null  ┆ 0.014575 ┆ B      ┆ 11      ┆ 5     │\n",
        "└──────┴───────┴──────────┴────────┴─────────┴───────┘\n",
        "Filter:\n",
        "┌─────┬───────┬──────────┬────────┬─────────┬───────┐\n",
        "│ nrs ┆ names ┆ random   ┆ groups ┆ nrs_sum ┆ count │\n",
        "│ --- ┆ ---   ┆ ---      ┆ ---    ┆ ---     ┆ ---   │\n",
        "│ i64 ┆ str   ┆ f64      ┆ str    ┆ i64     ┆ u32   │\n",
        "╞═════╪═══════╪══════════╪════════╪═════════╪═══════╡\n",
        "│ 3   ┆ spam  ┆ 0.263315 ┆ B      ┆ 11      ┆ 5     │\n",
        "│ 5   ┆ null  ┆ 0.014575 ┆ B      ┆ 11      ┆ 5     │\n",
        "└─────┴───────┴──────────┴────────┴─────────┴───────┘\n",
        "```\n",
        "\n",
        "\n",
        "#### Contexto `groupby` / `aggregation`\n",
        "\n",
        "En este contexto, las expresiones funcionan en grupos, por lo que pueden producir resultados de cualquier longitud (un grupo puede tener muchos miembros).\n",
        "\n",
        "```\n",
        "Original:\n",
        "┌──────┬───────┬──────────┬────────┬─────────┬───────┐\n",
        "│ nrs  ┆ names ┆ random   ┆ groups ┆ nrs_sum ┆ count │\n",
        "│ ---  ┆ ---   ┆ ---      ┆ ---    ┆ ---     ┆ ---   │\n",
        "│ i64  ┆ str   ┆ f64      ┆ str    ┆ i64     ┆ u32   │\n",
        "╞══════╪═══════╪══════════╪════════╪═════════╪═══════╡\n",
        "│ 1    ┆ foo   ┆ 0.154163 ┆ A      ┆ 11      ┆ 5     │\n",
        "│ 2    ┆ ham   ┆ 0.74005  ┆ A      ┆ 11      ┆ 5     │\n",
        "│ 3    ┆ spam  ┆ 0.263315 ┆ B      ┆ 11      ┆ 5     │\n",
        "│ null ┆ egg   ┆ 0.533739 ┆ C      ┆ 11      ┆ 5     │\n",
        "│ 5    ┆ null  ┆ 0.014575 ┆ B      ┆ 11      ┆ 5     │\n",
        "└──────┴───────┴──────────┴────────┴─────────┴───────┘\n",
        "GroupBy / Aggregation:\n",
        "┌────────┬─────┬───────┬────────────┬────────────────┐\n",
        "│ groups ┆ nrs ┆ count ┆ random_sum ┆ reversed names │\n",
        "│ ---    ┆ --- ┆ ---   ┆ ---        ┆ ---            │\n",
        "│ str    ┆ i64 ┆ u32   ┆ f64        ┆ list[str]      │\n",
        "╞════════╪═════╪═══════╪════════════╪════════════════╡\n",
        "│ C      ┆ 0   ┆ 1     ┆ 0.533739   ┆ [\"egg\"]        │\n",
        "│ B      ┆ 8   ┆ 2     ┆ 0.263315   ┆ [null, \"spam\"] │\n",
        "│ A      ┆ 3   ┆ 2     ┆ 0.894213   ┆ [\"ham\", \"foo\"] │\n",
        "└────────┴─────┴───────┴────────────┴────────────────┘\n",
        "```"
      ],
      "metadata": {
        "id": "afaNnkxwGiD0"
      }
    },
    {
      "cell_type": "markdown",
      "source": [
        "## Expresiones\n",
        "\n",
        "Polars cuenta con expresiones. Las expresiones son el núcleo de muchas operaciones de ciencia de datos y son el concepto fundamental de Polars para su rendimiento muy rápido.\n",
        "\n",
        "Algunas de estas operaciones importantes en la ciencia de datos son:\n",
        "\n",
        "- tomar una muestra de filas de una columna\n",
        "- multiplicar valores en una columna\n",
        "- extraer una columna de años a partir de fechas\n",
        "- convertir una columna de cadenas a minúsculas\n",
        "- ¡y más!\n",
        "\n",
        "Sin embargo, las expresiones también se utilizan dentro de otras operaciones:\n",
        "\n",
        "- tomar la media de un grupo en una operación `groupby`\n",
        "- calcular el tamaño de los grupos en una operación `groupby`\n",
        "- tomando la suma horizontalmente a través de las columnas\n",
        "\n",
        "Polars realiza estas transformaciones de datos centrales muy rápidamente con:\n",
        "\n",
        "- optimización automática de consultas en cada expresión\n",
        "- paralelización automática de expresiones en muchas columnas\n",
        "\n",
        "**Analicemos.** ¿Qué hace la siguiente sentencia?"
      ],
      "metadata": {
        "id": "YukAw58UKgoq"
      }
    },
    {
      "cell_type": "code",
      "source": [
        "out = pl.col(\"foo\").sort().head(2)\n",
        "print(out)"
      ],
      "metadata": {
        "id": "zaPRECgVGYt6"
      },
      "execution_count": null,
      "outputs": []
    },
    {
      "cell_type": "markdown",
      "source": [
        "Una expresión regresa otra expresión, entonces podemos encadenar procesos de esa manera.\n",
        "1. Selecciona la columna \"foo\"\n",
        "2. Luego ordena la columna\n",
        "3. Luego toma los primeros dos valores de la salida ordenada\n",
        "\n",
        " >El poder de las expresiones es que cada expresión produce una nueva expresión, y que pueden ser encadenadas. Puedes ejecutar una expresión pasándola a uno de los contextos de ejecución de Polars."
      ],
      "metadata": {
        "id": "SaC_f_CpLFIV"
      }
    },
    {
      "cell_type": "markdown",
      "source": [
        "**🤚 ¿De dónde? ¿De qué?**"
      ],
      "metadata": {
        "id": "-a_rOH88LbFk"
      }
    },
    {
      "cell_type": "code",
      "source": [
        "# Mini ejercicio. ¿Qué hace esto?\n",
        "pl.col(\"random\").sum().slice(10, 22)"
      ],
      "metadata": {
        "id": "fFjBBhVSKwTv"
      },
      "execution_count": null,
      "outputs": []
    },
    {
      "cell_type": "markdown",
      "source": [
        "## Muy bien, empecemos con lo verdaderamente interesante"
      ],
      "metadata": {
        "id": "d0qiTepdPhlR"
      }
    },
    {
      "cell_type": "code",
      "source": [
        "df = pl.DataFrame(\n",
        "    {\n",
        "        \"nrs\": [1, 2, 3, None, 5],\n",
        "        \"names\": [\"David\", \"Missa\", \"Rodo\", \"Sara\", None],\n",
        "        \"random\": np.random.rand(5),\n",
        "        \"groups\": [\"A\", \"A\", \"B\", \"C\", \"B\"],\n",
        "    }\n",
        ")\n",
        "print(df)"
      ],
      "metadata": {
        "id": "T607WvBAO2X2"
      },
      "execution_count": null,
      "outputs": []
    },
    {
      "cell_type": "code",
      "source": [
        "# Context: select\n",
        "out = df.select(\n",
        "    pl.sum(\"nrs\"),\n",
        "    # pl.col(\"names\").sort(),\n",
        "    # pl.col(\"names\").first().alias(\"first name\"),\n",
        "    # (pl.mean(\"nrs\") * 10).alias(\"10xnrs\"),\n",
        ")\n",
        "print(out)"
      ],
      "metadata": {
        "id": "apGqECwxPqmP"
      },
      "execution_count": null,
      "outputs": []
    },
    {
      "cell_type": "code",
      "source": [
        "# Contexto: filter\n",
        "out = df.filter(pl.col(\"nrs\") > 2)\n",
        "print(out)"
      ],
      "metadata": {
        "id": "XP9qKFquQbAw"
      },
      "execution_count": null,
      "outputs": []
    },
    {
      "cell_type": "code",
      "source": [
        "# Contexto group_by, agg\n",
        "out = df.group_by(\"groups\").agg(\n",
        "    pl.sum(\"nrs\"),\n",
        "    # pl.col(\"random\").count().alias(\"count\"),\n",
        "    # pl.col(\"random\").filter(pl.col(\"names\").is_not_null()).sum().name.suffix(\"_sum\"),\n",
        "    # pl.col(\"names\").reverse().alias(\"reversed names\"),\n",
        ")\n",
        "print(out)"
      ],
      "metadata": {
        "id": "fWv_5cOWQkAg"
      },
      "execution_count": null,
      "outputs": []
    },
    {
      "cell_type": "markdown",
      "source": [
        "### Group_by\n",
        "Profundicemos más en group by y en las agregaciones"
      ],
      "metadata": {
        "id": "QD-fGsg1RQ6r"
      }
    },
    {
      "cell_type": "code",
      "source": [
        "groups = df.group_by(\"groups\")\n",
        "print(out)"
      ],
      "metadata": {
        "id": "kH27y_peQpJr"
      },
      "execution_count": null,
      "outputs": []
    },
    {
      "cell_type": "code",
      "source": [
        "# Polars da la opción de visualizar estos grupos\n",
        "for group, group_df in groups:\n",
        "    print(\"Este es el grupo: \", group)\n",
        "    print(group_df)"
      ],
      "metadata": {
        "id": "89-IesUeRc0r"
      },
      "execution_count": null,
      "outputs": []
    },
    {
      "cell_type": "code",
      "source": [
        "for group, group_df in groups:\n",
        "    print(\"Este es el grupo: \", group)\n",
        "    out = group_df.select(\n",
        "        pl.col(\"nrs\").sum().alias(\"sum_nrs\")\n",
        "    )\n",
        "    print(out)"
      ],
      "metadata": {
        "id": "9DaK_muaR1e3"
      },
      "execution_count": null,
      "outputs": []
    },
    {
      "cell_type": "markdown",
      "source": [
        "# El verdadero poder 🧠"
      ],
      "metadata": {
        "id": "iSaGru6ElOl6"
      }
    },
    {
      "cell_type": "markdown",
      "source": [
        "## Funciones (Funciones)\n",
        "Las expresiones de Polars tienen un gran número de funciones integradas. Estas te permiten crear consultas complejas sin la necesidad de funciones definidas por el usuario. Hay demasiadas para revisarlas todas aquí, pero cubriremos algunos de los casos de uso más populares. Si deseas ver todas las funciones, ve a la [Referencia de API](https://docs.pola.rs/user-guide/expressions/functions/) de Python.\n",
        "\n",
        "En los ejemplos a continuación, utilizaremos el siguiente ```DataFrame```:"
      ],
      "metadata": {
        "id": "HtfCbkLylDQY"
      }
    },
    {
      "cell_type": "code",
      "source": [
        "df = pl.DataFrame(\n",
        "    {\n",
        "        \"nrs\": [1, 2, 3, None, 5],\n",
        "        \"names\": [\"David\", \"Missa\", \"Rodo\", \"Sara\", None],\n",
        "        \"random\": np.random.rand(5),\n",
        "        \"groups\": [\"A\", \"A\", \"B\", \"C\", \"B\"],\n",
        "    }\n",
        ")\n",
        "print(df)"
      ],
      "metadata": {
        "id": "ShnVgTSCSNc6"
      },
      "execution_count": null,
      "outputs": []
    },
    {
      "cell_type": "markdown",
      "source": [
        "#### Nombrado de columnas\n",
        "De forma predeterminada, si realizas una expresión, mantendrá el mismo nombre que la columna original. En el ejemplo a continuación, realizamos una expresión en la columna 'nrs'. Observa que el DataFrame de salida aún tiene el mismo nombre."
      ],
      "metadata": {
        "id": "IScMfDf9mAFM"
      }
    },
    {
      "cell_type": "code",
      "source": [
        "df_samename = df.select(pl.col(\"nrs\") + 5)\n",
        "print(df_samename)"
      ],
      "metadata": {
        "id": "8WERZZWQlwR_"
      },
      "execution_count": null,
      "outputs": []
    },
    {
      "cell_type": "markdown",
      "source": [
        "Esto puede llegar a ser complicado porque estamos usando el mismo nombre que el DataFrame original aunque ya no representan lo mismo, además podríamos generar problemas, por ejemplo si hacemos lo mismo con dos columnas."
      ],
      "metadata": {
        "id": "NPxQdJgtmKUe"
      }
    },
    {
      "cell_type": "code",
      "source": [
        "df_samename2 = df.select(\n",
        "    pl.col(\"nrs\") + 5,\n",
        "    pl.col(\"nrs\") - 5\n",
        ")\n",
        "print(df_samename2)"
      ],
      "metadata": {
        "id": "UnQ3fkE4mI9L"
      },
      "execution_count": null,
      "outputs": []
    },
    {
      "cell_type": "markdown",
      "source": [
        "¡Podemos cambiar el nombre con la función / expresión, alias!"
      ],
      "metadata": {
        "id": "gbAdvYLEmc-m"
      }
    },
    {
      "cell_type": "code",
      "source": [
        "# Aber si muy muy, hazlo..."
      ],
      "metadata": {
        "id": "kIqQzZBFmX82"
      },
      "execution_count": null,
      "outputs": []
    },
    {
      "cell_type": "markdown",
      "source": [
        "#### with_columns\n",
        "Similar al comando `select`, el comando `with_columns` también entra en el tipo de contexto de selección. La principal diferencia entre `with_columns` y `select` es que `with_columns` retiene las columnas originales y agrega nuevas, mientras que `select` elimina las columnas originales."
      ],
      "metadata": {
        "id": "6rRNAduBq-ln"
      }
    },
    {
      "cell_type": "code",
      "source": [
        "out_select = df.select(\n",
        "    pl.sum(\"nrs\").alias(\"nrs_sum\"),\n",
        "    pl.col(\"random\").count().alias(\"count\"),\n",
        ")"
      ],
      "metadata": {
        "id": "0Qhzl7aNrVM0"
      },
      "execution_count": null,
      "outputs": []
    },
    {
      "cell_type": "code",
      "source": [
        "out_with = df.with_columns(\n",
        "    pl.sum(\"nrs\").alias(\"nrs_sum\"),\n",
        "    pl.col(\"random\").count().alias(\"count\"),\n",
        ")"
      ],
      "metadata": {
        "id": "P8E5Xq3Lq5IM"
      },
      "execution_count": null,
      "outputs": []
    },
    {
      "cell_type": "code",
      "source": [
        "print(out_select)\n",
        "print(out_with)"
      ],
      "metadata": {
        "id": "dHinWYmVra5d"
      },
      "execution_count": null,
      "outputs": []
    },
    {
      "cell_type": "markdown",
      "source": [
        "#### Contar valores únicos\n",
        "Hay dos formas de contar valores únicos en Polars: una metodología exacta y una aproximación. La aproximación utiliza el algoritmo HyperLogLog++ para aproximar la cardinalidad y es especialmente útil para conjuntos de datos muy grandes donde una aproximación es suficiente."
      ],
      "metadata": {
        "id": "4akcVWYPmx3f"
      }
    },
    {
      "cell_type": "code",
      "source": [
        "df_alias = df.select(\n",
        "    pl.col(\"names\").n_unique().alias(\"unique\"),\n",
        "    pl.approx_n_unique(\"names\").alias(\"unique_approx\"),\n",
        ")\n",
        "print(df_alias)"
      ],
      "metadata": {
        "id": "OHCh9KdTmpZD"
      },
      "execution_count": null,
      "outputs": []
    },
    {
      "cell_type": "markdown",
      "source": [
        "#### Condicionales\n",
        "Polars soporta condiciones tipo if-else en expresiones con la sintaxis when, then, otherwise. El predicado se coloca en la cláusula when y cuando esto se evalúa como verdadero, se aplica la expresión then; de lo contrario, se aplica la expresión otherwise (fila por fila)."
      ],
      "metadata": {
        "id": "4d5oEmV1nGkM"
      }
    },
    {
      "cell_type": "code",
      "source": [
        "df_conditional = df.select(\n",
        "    pl.col(\"nrs\"),\n",
        "    pl.when(pl.col(\"nrs\") > 2) # Hey como un if!\n",
        "    .then(pl.lit(True))\n",
        "    .otherwise(pl.lit(False)) # else\n",
        "    .alias(\"conditional\"),\n",
        ")\n",
        "print(df_conditional)"
      ],
      "metadata": {
        "id": "rRa9JpT9m3Vj"
      },
      "execution_count": null,
      "outputs": []
    },
    {
      "cell_type": "markdown",
      "source": [
        "**🤚 ¿Qué significa ```pl.lit```?**"
      ],
      "metadata": {
        "id": "57sl-WBynPYG"
      }
    },
    {
      "cell_type": "markdown",
      "source": [
        "### Ejercicio 🦆: Iris!\n",
        "Ya sé que todo el mundo usa el dataset de iris para ejercicios pero pues es que está chido."
      ],
      "metadata": {
        "id": "WcsJzzvfnsxm"
      }
    },
    {
      "cell_type": "code",
      "source": [
        "df_iris = pl.read_csv('https://raw.githubusercontent.com/mwaskom/seaborn-data/master/iris.csv')\n",
        "# Voy a cambiar el nombre a las columnas\n",
        "df_iris = df_iris.select(\n",
        "    pl.col(\"sepal_length\").alias(\"largo_sepalo\"),\n",
        "    pl.col(\"sepal_width\").alias(\"ancho_sepalo\"),\n",
        "    pl.col(\"petal_length\").alias(\"largo_petalo\"),\n",
        "    pl.col(\"petal_width\").alias(\"ancho_petalo\"),\n",
        "    pl.col(\"species\").alias(\"especie\")\n",
        ")\n",
        "\n",
        "print(df_iris.head())"
      ],
      "metadata": {
        "id": "2h4-Dyv6nJd8"
      },
      "execution_count": null,
      "outputs": []
    },
    {
      "cell_type": "markdown",
      "source": [
        "**¿Qué esquema tiene?**"
      ],
      "metadata": {
        "id": "EXXH-MTUoJe_"
      }
    },
    {
      "cell_type": "code",
      "source": [
        "# ¿Qué esquema tiene?"
      ],
      "metadata": {
        "id": "q8MciI_yn3vl"
      },
      "execution_count": null,
      "outputs": []
    },
    {
      "cell_type": "markdown",
      "source": [
        "**Solo seleccionemos el largo del sépalo y el largo del pétalo, y sólo los últimos 5 registros.**"
      ],
      "metadata": {
        "id": "ebFOBXhvomNt"
      }
    },
    {
      "cell_type": "code",
      "source": [
        "# Solo seleccionemos el largo del sépalo y el largo del pétalo, y sólo los últimos 5 registros. (Puedes hacerlo con regex?)"
      ],
      "metadata": {
        "id": "iU88EEedoV-V"
      },
      "execution_count": null,
      "outputs": []
    },
    {
      "cell_type": "markdown",
      "source": [
        "**¿Cómo podemos filtrar todas las flores que son virginica?**"
      ],
      "metadata": {
        "id": "Urrcv5CFoUr1"
      }
    },
    {
      "cell_type": "code",
      "source": [
        "# ¿Cómo podemos filtrar todas las flores que son virginica?"
      ],
      "metadata": {
        "id": "7hkGgDqJoMWi"
      },
      "execution_count": null,
      "outputs": []
    },
    {
      "cell_type": "markdown",
      "source": [
        "**Seleccionemos todas las columnas que no son la especie**"
      ],
      "metadata": {
        "id": "aa08pgmMo2c0"
      }
    },
    {
      "cell_type": "code",
      "source": [
        "# Seleccionemos todas las columnas que no son la el ancho del pétalo"
      ],
      "metadata": {
        "id": "d5ItPz2Ko2AO"
      },
      "execution_count": null,
      "outputs": []
    },
    {
      "cell_type": "markdown",
      "source": [
        "**Seleccionemos todas las que son float**"
      ],
      "metadata": {
        "id": "oqOxyE35qhzf"
      }
    },
    {
      "cell_type": "code",
      "source": [
        "# Seleccionemos todas las que son float"
      ],
      "metadata": {
        "id": "iq0uY931o_Ii"
      },
      "execution_count": null,
      "outputs": []
    },
    {
      "cell_type": "markdown",
      "source": [
        "**Añade una nueva columna llamada 'area_sepalo' la cual es el producto del largo del sépalo y el ancho del sépalo (así es, asumimos plantas cuadradas)**"
      ],
      "metadata": {
        "id": "xAM0zbM7rrD0"
      }
    },
    {
      "cell_type": "code",
      "source": [
        "# Añade una nueva columna llamada 'area_sepalo' la cual es el producto del largo del sépalo y el ancho del sépalo (así es, asumimos plantas cuadradas)"
      ],
      "metadata": {
        "id": "e1PyhQLZrqgJ"
      },
      "execution_count": null,
      "outputs": []
    },
    {
      "cell_type": "markdown",
      "source": [
        "**Agrupar por especie: Agrupa los datos por la columna 'species' y calcula la media de 'sepal_length' y 'sepal_width' para cada grupo.**"
      ],
      "metadata": {
        "id": "irtvUrUWsE7Q"
      }
    },
    {
      "cell_type": "code",
      "source": [
        "# Agrupar por especie: Agrupa los datos por la columna 'especie' y calcula la media de 'largo_sépalo' y 'ancho_sépalo' para cada grupo."
      ],
      "metadata": {
        "id": "xr3JNXcgsGSi"
      },
      "execution_count": null,
      "outputs": []
    },
    {
      "cell_type": "markdown",
      "source": [
        "**¿Crees que puedas ver los dataframes individuales de cada especie?**"
      ],
      "metadata": {
        "id": "I9jSy4REtdsl"
      }
    },
    {
      "cell_type": "code",
      "source": [
        "# ¿Crees que puedas ver los dataframes individuales de cada especie?"
      ],
      "metadata": {
        "id": "gH4SSAW8sLmU"
      },
      "execution_count": null,
      "outputs": []
    },
    {
      "cell_type": "markdown",
      "source": [
        "**Contamos ocurrencias de cada especie**"
      ],
      "metadata": {
        "id": "6n652dPMtgEB"
      }
    },
    {
      "cell_type": "code",
      "source": [
        "# Contamos ocurrencias de cada especie"
      ],
      "metadata": {
        "id": "VfxxVRcItArx"
      },
      "execution_count": null,
      "outputs": []
    },
    {
      "cell_type": "markdown",
      "source": [
        "#### Ay buey, transformaciones más avanzadas\n",
        "Vamos a hacer transformaciones de DS medio más perrillas."
      ],
      "metadata": {
        "id": "zJpTdalutsOV"
      }
    },
    {
      "cell_type": "markdown",
      "source": [
        "**Normaliza el largo del sépalo y el ancho del sépalo usando [escalamiento min-max](https://nicolasurrego.medium.com/transformando-datos-en-oro-c%C3%B3mo-la-estandarizaci%C3%B3n-y-normalizaci%C3%B3n-mejoran-tus-resultados-fbe0840d2b94#:~:text=El%20Escalamiento%20Min%2DMax%2C%20tambi%C3%A9n,datos%20y%20el%20aprendizaje%20autom%C3%A1tico.).**"
      ],
      "metadata": {
        "id": "TzkLQQ_tuFKJ"
      }
    },
    {
      "cell_type": "code",
      "source": [
        "# Normaliza el largo del sépalo y el ancho del sépalo usando escalamiento min-max. (Haz que sean dos nuevas columnas llamadas igual pero con el sufijo \"_norm\"!)\n",
        "out = df_iris.with_columns([\n",
        "    ((pl.col('largo_sepalo') - pl.col('largo_sepalo').min()) /\n",
        "     (pl.col('largo_sepalo').max() - pl.col('largo_sepalo').min())).name.suffix(\"_norm\"),\n",
        "    ((pl.col('ancho_sepalo') - pl.col('ancho_sepalo').min()) /\n",
        "     (pl.col('ancho_sepalo').max() - pl.col('ancho_sepalo').min())).name.suffix('_norm')\n",
        "])\n",
        "\n",
        "print(out)"
      ],
      "metadata": {
        "id": "5zH752lNtcX0"
      },
      "execution_count": null,
      "outputs": []
    },
    {
      "cell_type": "markdown",
      "source": [
        "**Despivoteemos la tabla para que muestre como columnas las especies y como valores los anchos del sepalo**"
      ],
      "metadata": {
        "id": "n6T7BLkE0qmi"
      }
    },
    {
      "cell_type": "code",
      "source": [
        "# Despivoteemos la tabla para que muestre como columnas las especies y como valores los anchos del sepalo.\n",
        "df_melted = df_iris.melt(id_vars=['especie'], variable_name=\"ancho_sepalo\", value_vars=\"ancho_sepalo\")\n",
        "print(df_melted) # Meh ejemplo chafa..."
      ],
      "metadata": {
        "collapsed": true,
        "id": "TqJ46rs5uSvz"
      },
      "execution_count": null,
      "outputs": []
    },
    {
      "cell_type": "code",
      "source": [
        "# Ejemplo no tan chafa\n",
        "import numpy as np\n",
        "\n",
        "# Generando un dataframe con id de una persona, vendedores por ejemplo\n",
        "np.random.seed(0)\n",
        "data = {\n",
        "    'id_persona': range(1, 11),  # Assuming 10 persons for the example\n",
        "}\n",
        "\n",
        "# Añadir datos de ventas por cada mes\n",
        "months = ['Enero', 'Febrero', 'Marzo', 'Abril', 'Mayo', 'Junio', 'Julio', 'Agosto', 'Septiembre', 'Octubre', 'Noviembre', 'Diciembre']\n",
        "for month in months:\n",
        "    data[month] = np.random.randint(100, 1000, size=10)\n",
        "\n",
        "# Crear el dataframe\n",
        "df = pl.DataFrame(data)\n",
        "\n",
        "print(df)"
      ],
      "metadata": {
        "id": "9hrHGUXZx2Jm"
      },
      "execution_count": null,
      "outputs": []
    },
    {
      "cell_type": "code",
      "source": [
        "import matplotlib.pyplot as plt\n",
        "plt.bar(df['id_persona'], df['Enero'])\n",
        "plt.show()"
      ],
      "metadata": {
        "id": "L4tfcuNdyUyL"
      },
      "execution_count": null,
      "outputs": []
    },
    {
      "cell_type": "markdown",
      "source": [
        "**Pivotea esta tabla hasta que se vea una columna fecha, el valor del salario en esa fecha para cada id de persona.**"
      ],
      "metadata": {
        "id": "PoC439vwymQB"
      }
    },
    {
      "cell_type": "code",
      "source": [
        "# pl.Config.set_tbl_rows(100)"
      ],
      "metadata": {
        "id": "m5EG26kK2kAD"
      },
      "execution_count": null,
      "outputs": []
    },
    {
      "cell_type": "code",
      "source": [
        "# Pivotea esta tabla hasta que se vea una columna fecha, el valor del salario en esa fecha para cada id de persona.\n",
        "out = df.melt(\n",
        "    id_vars=['id_persona'],\n",
        "    value_vars=['Enero', 'Febrero', 'Marzo', 'Abril', 'Mayo', 'Junio', 'Julio', 'Agosto', 'Septiembre', 'Octubre', 'Noviembre', 'Diciembre'],\n",
        "    variable_name='mes',\n",
        "    value_name='salario'\n",
        ")\n",
        "print(out.filter(\n",
        "    pl.col(\"id_persona\") == 1\n",
        "))"
      ],
      "metadata": {
        "id": "OVs2kbwmylHT"
      },
      "execution_count": null,
      "outputs": []
    },
    {
      "cell_type": "code",
      "source": [
        "pl.Config.set_tbl_rows(5)"
      ],
      "metadata": {
        "id": "V1DIhPIP4WUc"
      },
      "execution_count": null,
      "outputs": []
    },
    {
      "cell_type": "markdown",
      "source": [
        "# Ejercicios 💪\n",
        "## A chambiar\n",
        "\n",
        "Estaremos poniendo en práctica lo aprendido con algunos ejercicios de [101 Pandas Exercises for Data Analysis](https://www.machinelearningplus.com/python/101-pandas-exercises-python/)."
      ],
      "metadata": {
        "id": "8UyYU1l337Ba"
      }
    },
    {
      "cell_type": "code",
      "source": [
        "# ¿Cómo combinar múltiples dfs en un DataFrame?\n",
        "df1 = pl.DataFrame({\"letras\": list(\"abcedfghijklmnopqrstuvwxyz\")})\n",
        "df2 = pl.DataFrame({\"nums\": np.arange(len(df1))})\n",
        "\n",
        "print(df1, df2)"
      ],
      "metadata": {
        "id": "RIWqPMIT3_7T"
      },
      "execution_count": null,
      "outputs": []
    },
    {
      "cell_type": "code",
      "source": [
        "out = pl.concat([df1, df2], how = \"horizontal\")\n",
        "\n",
        "print(out)"
      ],
      "metadata": {
        "id": "4TKQ4NFB4UKe"
      },
      "execution_count": null,
      "outputs": []
    },
    {
      "cell_type": "code",
      "source": [
        "# ¿Cómo calcular el número de caracteres de cada palabra en un DataFrame?\n",
        "df = pl.DataFrame({\"palabras\": [\"esta\", \"es\", \"una\", \"palabra\"]})\n",
        "print(df)"
      ],
      "metadata": {
        "id": "bc48P5dw42Lb"
      },
      "execution_count": null,
      "outputs": []
    },
    {
      "cell_type": "code",
      "source": [
        "out = df.with_columns(\n",
        "    pl.col(\"palabras\").str.len_chars().alias(\"Cuenta\")\n",
        ")\n",
        "\n",
        "print(out)"
      ],
      "metadata": {
        "id": "KbWn5Pyf43nI"
      },
      "execution_count": null,
      "outputs": []
    },
    {
      "cell_type": "code",
      "source": [
        "# ¿Cómo convertir una cadena año-mes a fechas que comiencen en el 11 de cada mes?\n",
        "df = pl.DataFrame(['Jan 2010', 'Feb 2011', 'Mar 2012'], schema = [\"date\"])\n",
        "print(df)"
      ],
      "metadata": {
        "id": "es-X0eBJ5eOz"
      },
      "execution_count": null,
      "outputs": []
    },
    {
      "cell_type": "code",
      "source": [
        "out = df.with_columns(\n",
        "    ('11 ' + pl.col(\"date\")).str.to_date(\"%d %b %Y\").alias(\"datetime\")\n",
        ")\n",
        "\n",
        "print(out)"
      ],
      "metadata": {
        "id": "yVxMQKZM5gzS"
      },
      "execution_count": null,
      "outputs": []
    },
    {
      "cell_type": "markdown",
      "source": [
        "#### Ejercicio más 🐕\n",
        "**Instrucción**: Lee el archivo en formato ```csv``` llamado ```ayuda.csv```.\n",
        "Imprime un polars DataFrame cuya primera columna sea el id de la ciudad de salida, en la segunda columna esté el id de ciudad de entrada más cercana, en la tercera columna esté la distancia y en la cuarta columna esté la dirección correcta a la que tengo que ir."
      ],
      "metadata": {
        "id": "eCpyHgM__ESb"
      }
    },
    {
      "cell_type": "code",
      "source": [],
      "metadata": {
        "id": "qAwR5a0W_Vrz"
      },
      "execution_count": null,
      "outputs": []
    },
    {
      "cell_type": "markdown",
      "source": [
        "# Extras\n",
        "## Eager vs. Lazy"
      ],
      "metadata": {
        "id": "rnbM1F1x8XX1"
      }
    },
    {
      "cell_type": "code",
      "source": [
        "!wget https://raw.githubusercontent.com/mwaskom/seaborn-data/master/iris.csv"
      ],
      "metadata": {
        "id": "3rI0slOo8dAX"
      },
      "execution_count": null,
      "outputs": []
    },
    {
      "cell_type": "code",
      "source": [
        "%time\n",
        "df = pl.read_csv(\"iris.csv\")\n",
        "df_small = df.filter(pl.col(\"sepal_length\") > 5)\n",
        "df_agg = df_small.group_by(\"species\").agg(pl.col(\"sepal_width\").mean())\n",
        "print(df_agg)"
      ],
      "metadata": {
        "id": "Zu-FL8nD8jez"
      },
      "execution_count": null,
      "outputs": []
    },
    {
      "cell_type": "code",
      "source": [
        "%time\n",
        "q = (\n",
        "    pl.scan_csv(\"iris.csv\")\n",
        "    .filter(pl.col(\"sepal_length\") > 5)\n",
        "    .group_by(\"species\")\n",
        "    .agg(pl.col(\"sepal_width\").mean())\n",
        ")\n",
        "\n",
        "df = q.collect()\n",
        "\n",
        "print(df)"
      ],
      "metadata": {
        "id": "ipBfRNNT8bVj"
      },
      "execution_count": null,
      "outputs": []
    },
    {
      "cell_type": "code",
      "source": [],
      "metadata": {
        "id": "X6UI-z3G9xRP"
      },
      "execution_count": null,
      "outputs": []
    }
  ]
}